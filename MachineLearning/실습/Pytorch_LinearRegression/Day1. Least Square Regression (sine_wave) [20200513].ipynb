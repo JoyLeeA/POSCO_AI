{
 "cells": [
  {
   "cell_type": "markdown",
   "metadata": {},
   "source": [
    "-------------------------------------------------------------------------------------------------------------\n",
    "# 2020 05 13 Wednesday"
   ]
  },
  {
   "cell_type": "markdown",
   "metadata": {
    "slideshow": {
     "slide_type": "slide"
    }
   },
   "source": [
    "# Linear Regression\n",
    "###     (preliminary: Linear Model)\n",
    "## 1. Library and Data, Preprocessing\n",
    "## 2. Compute W and b with 3 methods "
   ]
  },
  {
   "cell_type": "markdown",
   "metadata": {
    "slideshow": {
     "slide_type": "skip"
    }
   },
   "source": [
    "## 3. [Advanced] Regularization: Ridge, Lasso"
   ]
  },
  {
   "cell_type": "markdown",
   "metadata": {
    "slideshow": {
     "slide_type": "slide"
    }
   },
   "source": [
    "# Library"
   ]
  },
  {
   "cell_type": "code",
   "execution_count": 1,
   "metadata": {
    "slideshow": {
     "slide_type": "fragment"
    }
   },
   "outputs": [],
   "source": [
    "import numpy as np\n",
    "from sklearn.linear_model import LinearRegression\n",
    "from matplotlib import pyplot as plt\n",
    "\n",
    "import torch\n",
    "import torch.nn as nn # for neural network models\n",
    "import torch.optim as optim # for optimization \n",
    "import torch.nn.init as init # for initialization "
   ]
  },
  {
   "cell_type": "markdown",
   "metadata": {
    "slideshow": {
     "slide_type": "slide"
    }
   },
   "source": [
    "# simple data (데이터 만들기)"
   ]
  },
  {
   "cell_type": "code",
   "execution_count": 2,
   "metadata": {
    "slideshow": {
     "slide_type": "fragment"
    }
   },
   "outputs": [
    {
     "data": {
      "image/png": "[encoded data removed]",
      "text/plain": [
       "<Figure size 432x288 with 1 Axes>"
      ]
     },
     "metadata": {
      "needs_background": "light"
     },
     "output_type": "display_data"
    }
   ],
   "source": [
    "plt.figure()\n",
    "\n",
    "# true data\n",
    "N = 40 #전체 데이터의 개수\n",
    "X = np.linspace(-np.pi/2, np.pi/2, N).reshape(N, 1) # 40 x 1 / -pi/2~ pi/2사이에서 40개의 데이터를 뽑아오는 함수 \n",
    "y = np.sin(X)\n",
    "plt.plot(X, y)\n",
    "#reshape를 하지 않으면, x자체가 하나의 vector(매트릭스 상태가 되지 않음, 그냥 40개의 데이터)\n",
    "# add noise\n",
    "y += 0.1*np.random.randn(N, 1) #표준 정규 분포에서 가져와라, 실제 상황 처럼 오차를 주는 것\n",
    "\n",
    "plt.scatter(X, y)\n",
    "plt.title('sine wave data')\n",
    "plt.show()"
   ]
  },
  {
   "cell_type": "markdown",
   "metadata": {
    "slideshow": {
     "slide_type": "slide"
    }
   },
   "source": [
    "# Make feature"
   ]
  },
  {
   "cell_type": "code",
   "execution_count": 3,
   "metadata": {
    "slideshow": {
     "slide_type": "fragment"
    }
   },
   "outputs": [
    {
     "name": "stdout",
     "output_type": "stream",
     "text": [
      "PHI.shape:  (40, 2)\n",
      "PHI[:3] \n",
      " [[ 1.         -1.57079633]\n",
      " [ 1.         -1.49024267]\n",
      " [ 1.         -1.40968901]]\n"
     ]
    }
   ],
   "source": [
    "n_feature = 2\n",
    "\n",
    "PHI = np.ones(X.shape[0]).reshape(-1, 1) # 40 x 1 칼럼의 개수는 내가 정할테니 컴퓨터 너가 적절한 로그 찾아서 reshape 해줘라(-1)의 의미\n",
    "for i in range(1, n_feature):\n",
    "    PHI = np.concatenate((PHI, np.power(X, i)), axis=1)\n",
    "    #np.cocatenate: 매트릭스를 합치는 것\n",
    "print('PHI.shape: ', PHI.shape) # 40 x 2\n",
    "print('PHI[:3] \\n', PHI[:3])\n",
    "\n",
    "# shuffle\n",
    "idx = np.random.permutation(N)\n",
    "shuffle_X = X[idx]\n",
    "shuffle_PHI = PHI[idx]\n",
    "shuffle_y = y[idx]"
   ]
  },
  {
   "cell_type": "markdown",
   "metadata": {
    "slideshow": {
     "slide_type": "slide"
    }
   },
   "source": [
    "# Split train / test dataset"
   ]
  },
  {
   "cell_type": "code",
   "execution_count": 4,
   "metadata": {
    "slideshow": {
     "slide_type": "fragment"
    }
   },
   "outputs": [
    {
     "name": "stdout",
     "output_type": "stream",
     "text": [
      "[[ 1.         -0.44304512]\n",
      " [ 1.         -1.16802804]\n",
      " [ 1.          0.44304512]\n",
      " [ 1.         -0.36249146]\n",
      " [ 1.         -0.76525975]\n",
      " [ 1.         -0.2819378 ]\n",
      " [ 1.          1.16802804]\n",
      " [ 1.         -0.12083049]\n",
      " [ 1.         -1.08747438]\n",
      " [ 1.          0.68470609]\n",
      " [ 1.          0.76525975]\n",
      " [ 1.          0.92636706]\n",
      " [ 1.          0.2819378 ]\n",
      " [ 1.          0.52359878]\n",
      " [ 1.          1.32913535]\n",
      " [ 1.          1.2485817 ]\n",
      " [ 1.         -0.20138414]\n",
      " [ 1.         -1.00692072]\n",
      " [ 1.         -1.49024267]\n",
      " [ 1.         -1.40968901]]\n",
      "(20, 2)\n",
      "[[ 1.         -0.44304512]\n",
      " [ 1.         -1.16802804]\n",
      " [ 1.          0.44304512]\n",
      " [ 1.         -0.36249146]\n",
      " [ 1.         -0.76525975]\n",
      " [ 1.         -0.2819378 ]\n",
      " [ 1.          1.16802804]\n",
      " [ 1.         -0.12083049]\n",
      " [ 1.         -1.08747438]\n",
      " [ 1.          0.68470609]\n",
      " [ 1.          0.76525975]\n",
      " [ 1.          0.92636706]\n",
      " [ 1.          0.2819378 ]\n",
      " [ 1.          0.52359878]\n",
      " [ 1.          1.32913535]\n",
      " [ 1.          1.2485817 ]\n",
      " [ 1.         -0.20138414]\n",
      " [ 1.         -1.00692072]\n",
      " [ 1.         -1.49024267]\n",
      " [ 1.         -1.40968901]\n",
      " [ 1.          0.20138414]\n",
      " [ 1.         -0.84581341]\n",
      " [ 1.         -0.52359878]\n",
      " [ 1.         -0.04027683]\n",
      " [ 1.         -1.2485817 ]\n",
      " [ 1.          1.00692072]\n",
      " [ 1.         -0.68470609]\n",
      " [ 1.          0.36249146]\n",
      " [ 1.         -0.92636706]\n",
      " [ 1.          0.60415243]\n",
      " [ 1.          0.04027683]\n",
      " [ 1.         -0.60415243]\n",
      " [ 1.          0.84581341]\n",
      " [ 1.          1.08747438]\n",
      " [ 1.         -1.57079633]\n",
      " [ 1.         -1.32913535]\n",
      " [ 1.          0.12083049]\n",
      " [ 1.          1.57079633]\n",
      " [ 1.          1.49024267]\n",
      " [ 1.          1.40968901]]\n",
      "(40, 2)\n"
     ]
    }
   ],
   "source": [
    "#원래는 test data train data가 서로 소속되지 않아야 함\n",
    "n = N-20\n",
    "\n",
    "# train data\n",
    "X_train = shuffle_X[:n]\n",
    "PHI_train = shuffle_PHI[:n]\n",
    "y_train = shuffle_y[:n]\n",
    "\n",
    "print(PHI_train)\n",
    "print(PHI_train.shape)\n",
    "\n",
    "# test data\n",
    "X_test = shuffle_X[:]\n",
    "PHI_test = shuffle_PHI[:]\n",
    "y_test = shuffle_y[:]\n",
    "\n",
    "print(PHI_test)\n",
    "print(PHI_test.shape)"
   ]
  },
  {
   "cell_type": "code",
   "execution_count": 5,
   "metadata": {
    "slideshow": {
     "slide_type": "subslide"
    }
   },
   "outputs": [
    {
     "data": {
      "image/png": "[encoded data removed]",
      "text/plain": [
       "<Figure size 432x288 with 1 Axes>"
      ]
     },
     "metadata": {
      "needs_background": "light"
     },
     "output_type": "display_data"
    },
    {
     "data": {
      "image/png": "[encoded data removed]",
      "text/plain": [
       "<Figure size 432x288 with 1 Axes>"
      ]
     },
     "metadata": {
      "needs_background": "light"
     },
     "output_type": "display_data"
    }
   ],
   "source": [
    "# plot\n",
    "plt.figure()\n",
    "plt.scatter(X_train, y_train, label='train')\n",
    "plt.legend()\n",
    "plt.title('sine wave train data')\n",
    "plt.show()\n",
    "\n",
    "plt.figure()\n",
    "plt.scatter(X_test, y_test, label='test')\n",
    "plt.legend()\n",
    "plt.title('sine wave test data')\n",
    "plt.show()"
   ]
  },
  {
   "cell_type": "markdown",
   "metadata": {
    "slideshow": {
     "slide_type": "slide"
    }
   },
   "source": [
    "# Linear Regression (Formula) 해석적\n",
    "## method 1: compute W and b with numpy"
   ]
  },
  {
   "cell_type": "code",
   "execution_count": 6,
   "metadata": {
    "slideshow": {
     "slide_type": "fragment"
    }
   },
   "outputs": [
    {
     "name": "stdout",
     "output_type": "stream",
     "text": [
      "[b, W] = W_\n",
      "W_.shape:  (2, 1)\n",
      "W_ \n",
      " [[0.01259626]\n",
      " [0.79540069]]\n"
     ]
    }
   ],
   "source": [
    "# compute W_ with PHI_train.\n",
    "W_ = np.linalg.inv(PHI_train.T @ PHI_train) @ PHI_train.T @ y_train\n",
    "#(X^T * Y)^-1 * X*Y\n",
    "#numpy에서 @는 매트릭스간의 곱을 의미\n",
    "print('[b, W] = W_')\n",
    "print('W_.shape: ', W_.shape)\n",
    "print('W_ \\n', W_)"
   ]
  },
  {
   "cell_type": "code",
   "execution_count": 7,
   "metadata": {
    "slideshow": {
     "slide_type": "subslide"
    }
   },
   "outputs": [
    {
     "data": {
      "image/png": "[encoded data removed]",
      "text/plain": [
       "<Figure size 432x288 with 1 Axes>"
      ]
     },
     "metadata": {
      "needs_background": "light"
     },
     "output_type": "display_data"
    },
    {
     "data": {
      "image/png": "[encoded data removed]",
      "text/plain": [
       "<Figure size 432x288 with 1 Axes>"
      ]
     },
     "metadata": {
      "needs_background": "light"
     },
     "output_type": "display_data"
    }
   ],
   "source": [
    "plt.figure()\n",
    "plt.scatter(X_train, PHI_train @ W_, label='pred') #예측 값\n",
    "plt.scatter(X_train, y_train, label='target') #실제 값\n",
    "plt.title('train data')\n",
    "plt.show()\n",
    "\n",
    "plt.figure()\n",
    "plt.scatter(X_test, PHI_test @ W_, label='pred') #에측 값\n",
    "plt.scatter(X_test, y_test, label='target') #실제 값\n",
    "plt.legend()\n",
    "plt.title('test data')\n",
    "plt.show()"
   ]
  },
  {
   "cell_type": "markdown",
   "metadata": {
    "slideshow": {
     "slide_type": "slide"
    }
   },
   "source": [
    "# Linear Regression (Formula) \n",
    "## method 2: compute W and b with sklearn library"
   ]
  },
  {
   "cell_type": "code",
   "execution_count": 8,
   "metadata": {
    "slideshow": {
     "slide_type": "fragment"
    }
   },
   "outputs": [
    {
     "name": "stdout",
     "output_type": "stream",
     "text": [
      "b:  [0.01259626]\n",
      "W:  [[0.79540069]]\n"
     ]
    }
   ],
   "source": [
    "reg = LinearRegression()\n",
    "#위에서 구현한 것 과 동일\n",
    "reg.fit(X_train, y_train)\n",
    "\n",
    "print('b: ', reg.intercept_)\n",
    "print('W: ', reg.coef_)"
   ]
  },
  {
   "cell_type": "code",
   "execution_count": 9,
   "metadata": {
    "slideshow": {
     "slide_type": "subslide"
    }
   },
   "outputs": [
    {
     "data": {
      "image/png": "[encoded data removed]",
      "text/plain": [
       "<Figure size 432x288 with 1 Axes>"
      ]
     },
     "metadata": {
      "needs_background": "light"
     },
     "output_type": "display_data"
    },
    {
     "data": {
      "image/png": "[encoded data removed]",
      "text/plain": [
       "<Figure size 432x288 with 1 Axes>"
      ]
     },
     "metadata": {
      "needs_background": "light"
     },
     "output_type": "display_data"
    }
   ],
   "source": [
    "plt.figure()\n",
    "plt.scatter(X_train, reg.predict(X_train), label='pred')\n",
    "plt.scatter(X_train, y_train, label='target')\n",
    "plt.legend()\n",
    "plt.title('train data')\n",
    "plt.show()\n",
    "\n",
    "plt.figure()\n",
    "plt.scatter(X_test, reg.predict(X_test), label='pred')\n",
    "plt.scatter(X_test, y_test, label='target')\n",
    "plt.legend()\n",
    "plt.title('test data')\n",
    "plt.show()"
   ]
  },
  {
   "cell_type": "markdown",
   "metadata": {
    "slideshow": {
     "slide_type": "slide"
    }
   },
   "source": [
    "# Linear Regression (Formula) 수치적\n",
    "## method 3: compute W and b with pytorch library (Gradient Descent)"
   ]
  },
  {
   "cell_type": "code",
   "execution_count": 10,
   "metadata": {
    "slideshow": {
     "slide_type": "fragment"
    }
   },
   "outputs": [
    {
     "name": "stdout",
     "output_type": "stream",
     "text": [
      "tensor(1.3763)\n",
      "tensor(0.0588)\n",
      "tensor(0.0164)\n",
      "tensor(0.0150)\n",
      "tensor(0.0149)\n",
      "tensor(0.0149)\n",
      "tensor(0.0149)\n",
      "tensor(0.0149)\n",
      "tensor(0.0149)\n",
      "tensor(0.0149)\n",
      "W_ \n",
      " tensor(0.0126, grad_fn=<SelectBackward>)\n",
      "W_ \n",
      " tensor(0.7954, grad_fn=<SelectBackward>)\n"
     ]
    }
   ],
   "source": [
    "# prepare data\n",
    "PHI_train = torch.tensor(PHI_train, dtype = torch.float) # if PHI_train is numpy.array\n",
    "label = torch.tensor(y_train, dtype=torch.float)\n",
    "\n",
    "# prepare model\n",
    "model = nn.Linear(n_feature, 1, bias = False) # train without bias. (PHI_train term have 1, have bias already.)\n",
    "\n",
    "# prepare optimziation and loss function \n",
    "loss_function = nn.MSELoss() #Mean of Squre Error\n",
    "optimizer = optim.SGD(model.parameters(), lr = 0.1) #Stochastic Gradient Descent\n",
    "#(학습 시키고자 하는 모델의 파라미터, learning rate)\n",
    "\n",
    "# train the model \n",
    "for i in range(100): #100 epcoh\n",
    "    optimizer.zero_grad() #tensor 내의 gradient값을 0으로 초기화\n",
    "    output = model(PHI_train) #모델에 데이터 대입\n",
    "    \n",
    "    loss = loss_function(output, label) #loss 계산\n",
    "    \n",
    "    loss.backward() #gradient 계산\n",
    "    optimizer.step() #계산 한 것을 토대로 파라미터 업데이트\n",
    "    \n",
    "    if i % 10 == 0:\n",
    "        print(loss.data)\n",
    "        \n",
    "    param_list = list(model.parameters())\n",
    "\n",
    "\n",
    "print('W_ \\n', param_list[0][0][0])\n",
    "print('W_ \\n', param_list[0][0][1])\n",
    "\n",
    "PHI_test = torch.tensor(PHI_test, dtype = torch.float)\n",
    "\n",
    "y_train_pred = model(PHI_train)\n",
    "y_test_pred = model(PHI_test)\n",
    "\n",
    "y_train_pred = y_train_pred.detach().numpy()\n",
    "y_test_pred = y_test_pred.detach().numpy()"
   ]
  },
  {
   "cell_type": "code",
   "execution_count": 11,
   "metadata": {
    "scrolled": false,
    "slideshow": {
     "slide_type": "subslide"
    }
   },
   "outputs": [
    {
     "data": {
      "image/png": "[encoded data removed]",
      "text/plain": [
       "<Figure size 432x288 with 1 Axes>"
      ]
     },
     "metadata": {
      "needs_background": "light"
     },
     "output_type": "display_data"
    },
    {
     "data": {
      "image/png": "[encoded data removed]",
      "text/plain": [
       "<Figure size 432x288 with 1 Axes>"
      ]
     },
     "metadata": {
      "needs_background": "light"
     },
     "output_type": "display_data"
    }
   ],
   "source": [
    "plt.figure()\n",
    "plt.scatter(X_train, y_train_pred, label='pred')\n",
    "plt.scatter(X_train, y_train, label='target')\n",
    "plt.legend()\n",
    "plt.title('train data')\n",
    "plt.show()\n",
    "\n",
    "plt.figure()\n",
    "plt.scatter(X_test, y_test_pred, label='pred')\n",
    "plt.scatter(X_test, y_test, label='target')\n",
    "plt.legend()\n",
    "plt.title('test data')\n",
    "plt.show()"
   ]
  },
  {
   "cell_type": "markdown",
   "metadata": {
    "slideshow": {
     "slide_type": "slide"
    }
   },
   "source": [
    "# Advacned: Regularization (Ridge, Lasso)"
   ]
  },
  {
   "cell_type": "code",
   "execution_count": 12,
   "metadata": {
    "slideshow": {
     "slide_type": "fragment"
    }
   },
   "outputs": [
    {
     "name": "stdout",
     "output_type": "stream",
     "text": [
      "tensor(1.0358)\n",
      "tensor(0.0478)\n",
      "tensor(0.0160)\n",
      "tensor(0.0150)\n",
      "tensor(0.0149)\n",
      "tensor(0.0149)\n",
      "tensor(0.0149)\n",
      "tensor(0.0149)\n",
      "tensor(0.0149)\n",
      "tensor(0.0149)\n",
      "b \n",
      " tensor(0.0126, grad_fn=<SelectBackward>)\n",
      "W_ \n",
      " tensor(0.7954, grad_fn=<SelectBackward>)\n"
     ]
    }
   ],
   "source": [
    "# prepare data\n",
    "PHI_train = PHI_train.clone().detach() # if PHI_train is torch.tensor\n",
    "label = label.clone().detach() #데이터 텐서로 만들어 주는 것\n",
    "\n",
    "# prepare model\n",
    "model = nn.Linear(n_feature, 1, bias = False) # train without bias. (PHI_train term have 1, have bias already.)\n",
    "\n",
    "# prepare optimziation and loss function / 이전과 동일\n",
    "loss_function = nn.MSELoss()\n",
    "optimizer = optim.SGD(model.parameters(), lr = 0.1)\n",
    "\n",
    "#train model\n",
    "for i in range(100):\n",
    "    optimizer.zero_grad()\n",
    "    output = model(PHI_train)\n",
    "    \n",
    "    loss = loss_function(output, label)\n",
    "    \n",
    "    # L1 regularization / Loss + 파라미터의 절대값 전부 \n",
    "    regularization_loss = 0\n",
    "    for param in model.parameters():\n",
    "        regularization_loss += torch.sum(torch.abs(param))\n",
    "    \n",
    "    regularization_loss_cofficient=0.01\n",
    "    loss = regularization_loss_cofficient*regularization_loss + loss\n",
    "    \n",
    "    loss.backward()\n",
    "    optimizer.step()\n",
    "    \n",
    "    if i % 10 == 0:\n",
    "        print(loss.data)\n",
    "        \n",
    "    param_list = list(model.parameters())\n",
    "\n",
    "\n",
    "print('b \\n', param_list[0][0][0])\n",
    "print('W_ \\n', param_list[0][0][1])\n",
    "\n",
    "PHI_test = PHI_test.clone().detach()\n",
    "\n",
    "y_train_pred = model(PHI_train)\n",
    "y_test_pred = model(PHI_test)\n",
    "\n",
    "y_train_pred = y_train_pred.detach().numpy()\n",
    "y_test_pred = y_test_pred.detach().numpy()"
   ]
  },
  {
   "cell_type": "code",
   "execution_count": 13,
   "metadata": {
    "slideshow": {
     "slide_type": "subslide"
    }
   },
   "outputs": [
    {
     "data": {
      "image/png": "[encoded data removed]",
      "text/plain": [
       "<Figure size 432x288 with 1 Axes>"
      ]
     },
     "metadata": {
      "needs_background": "light"
     },
     "output_type": "display_data"
    },
    {
     "data": {
      "image/png": "[encoded data removed]",
      "text/plain": [
       "<Figure size 432x288 with 1 Axes>"
      ]
     },
     "metadata": {
      "needs_background": "light"
     },
     "output_type": "display_data"
    }
   ],
   "source": [
    "plt.figure()\n",
    "plt.scatter(X_train, y_train_pred, label='pred')\n",
    "plt.scatter(X_train, y_train, label='target')\n",
    "plt.legend()\n",
    "plt.title('train data')\n",
    "plt.show()\n",
    "\n",
    "plt.figure()\n",
    "plt.scatter(X_test, y_test_pred, label='pred')\n",
    "plt.scatter(X_test, y_test, label='target')\n",
    "plt.legend()\n",
    "plt.title('test data')\n",
    "plt.show()"
   ]
  },
  {
   "cell_type": "code",
   "execution_count": 16,
   "metadata": {
    "slideshow": {
     "slide_type": "skip"
    }
   },
   "outputs": [
    {
     "name": "stdout",
     "output_type": "stream",
     "text": [
      "tensor(1.7388)\n",
      "tensor(0.0616)\n",
      "tensor(0.0166)\n",
      "tensor(0.0150)\n",
      "tensor(0.0150)\n",
      "tensor(0.0150)\n",
      "tensor(0.0150)\n",
      "tensor(0.0149)\n",
      "tensor(0.0149)\n",
      "tensor(0.0149)\n",
      "b \n",
      " tensor(0.0123, grad_fn=<SelectBackward>)\n",
      "W_ \n",
      " tensor(0.7904, grad_fn=<SelectBackward>)\n"
     ]
    }
   ],
   "source": [
    "# prepare data\n",
    "PHI_train = PHI_train.clone().detach() # same with PHI_train = torch.tensor(PHI_train, dtype = torch.float)\n",
    "label = label.clone().detach()\n",
    "\n",
    "# prepare model \n",
    "model = nn.Linear(n_feature, 1, bias = False) # train without bias. (PHI_train term have 1, have bias already.)\n",
    "\n",
    "# prepare loss function\n",
    "loss_function = nn.MSELoss()\n",
    "\n",
    "# L2 reguliarzation\n",
    "optimizer = optim.SGD(model.parameters(), lr = 0.1, weight_decay = 0.01)\n",
    "#weight_decay(=regularization_loss_cofficient)에 인자 값 넣기\n",
    "\n",
    "# train the model\n",
    "for i in range(100):\n",
    "    optimizer.zero_grad()\n",
    "    output = model(PHI_train)\n",
    "    \n",
    "    loss = loss_function(output, label)\n",
    "    \n",
    "    loss.backward()\n",
    "    optimizer.step()\n",
    "    \n",
    "    if i % 10 == 0:\n",
    "        print(loss.data)\n",
    "        \n",
    "    param_list = list(model.parameters())\n",
    "\n",
    "\n",
    "print('b \\n', param_list[0][0][0])\n",
    "print('W_ \\n', param_list[0][0][1])\n",
    "\n",
    "PHI_test = PHI_test.clone().detach() # same with PHI_train = torch.tensor(PHI_train, dtype = torch.float)\n",
    "\n",
    "y_train_pred = model(PHI_train)\n",
    "y_test_pred = model(PHI_test)\n",
    "\n",
    "y_train_pred = y_train_pred.detach().numpy()\n",
    "y_test_pred = y_test_pred.detach().numpy()"
   ]
  },
  {
   "cell_type": "code",
   "execution_count": 15,
   "metadata": {},
   "outputs": [
    {
     "data": {
      "image/png": "[encoded data removed]",
      "text/plain": [
       "<Figure size 432x288 with 1 Axes>"
      ]
     },
     "metadata": {
      "needs_background": "light"
     },
     "output_type": "display_data"
    },
    {
     "data": {
      "image/png": "[encoded data removed]",
      "text/plain": [
       "<Figure size 432x288 with 1 Axes>"
      ]
     },
     "metadata": {
      "needs_background": "light"
     },
     "output_type": "display_data"
    }
   ],
   "source": [
    "plt.figure()\n",
    "plt.scatter(X_train, y_train_pred, label='pred')\n",
    "plt.scatter(X_train, y_train, label='target')\n",
    "plt.legend()\n",
    "plt.title('train data')\n",
    "plt.show()\n",
    "\n",
    "plt.figure()\n",
    "plt.scatter(X_test, y_test_pred, label='pred')\n",
    "plt.scatter(X_test, y_test, label='target')\n",
    "plt.legend()\n",
    "plt.title('test data')\n",
    "plt.show()"
   ]
  },
  {
   "cell_type": "markdown",
   "metadata": {},
   "source": [
    "-----------------------------------------------------"
   ]
  }
 ],
 "metadata": {
  "celltoolbar": "Slideshow",
  "kernelspec": {
   "display_name": "pytorch",
   "language": "python",
   "name": "pytorch"
  },
  "language_info": {
   "codemirror_mode": {
    "name": "ipython",
    "version": 3
   },
   "file_extension": ".py",
   "mimetype": "text/x-python",
   "name": "python",
   "nbconvert_exporter": "python",
   "pygments_lexer": "ipython3",
   "version": "3.8.2"
  },
  "widgets": {
   "state": {},
   "version": "1.1.2"
  }
 },
 "nbformat": 4,
 "nbformat_minor": 2
}
