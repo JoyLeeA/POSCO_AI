{
 "cells": [
  {
   "cell_type": "markdown",
   "metadata": {},
   "source": [
    "# 20200526 Tuesday"
   ]
  },
  {
   "cell_type": "markdown",
   "metadata": {},
   "source": [
    "## Classification with CIFAR-10 in tf.keras\n",
    "\n",
    "\n",
    "10개의 label로 이루어진 이미지 데이터\n",
    "- 비행기, 자동차, 새, 고양이, 사슴, 개, 개구리, 말, 배, 트럭"
   ]
  },
  {
   "cell_type": "markdown",
   "metadata": {},
   "source": [
    "### Import the CIFAR-10 dataset"
   ]
  },
  {
   "cell_type": "code",
   "execution_count": 1,
   "metadata": {
    "ExecuteTime": {
     "end_time": "2020-05-19T04:03:15.643602Z",
     "start_time": "2020-05-19T04:03:12.946540Z"
    }
   },
   "outputs": [],
   "source": [
    "#!pip install -q -U tensorflow-gpu=1.12.0\n",
    "\n",
    "import tensorflow as tf\n",
    "import random\n",
    "import numpy as np\n",
    "import matplotlib.pyplot as plt"
   ]
  },
  {
   "cell_type": "code",
   "execution_count": 2,
   "metadata": {
    "ExecuteTime": {
     "end_time": "2020-05-19T04:03:15.989604Z",
     "start_time": "2020-05-19T04:03:15.656602Z"
    }
   },
   "outputs": [
    {
     "name": "stdout",
     "output_type": "stream",
     "text": [
      "Downloading data from https://www.cs.toronto.edu/~kriz/cifar-10-python.tar.gz\n",
      "170500096/170498071 [==============================] - 44s 0us/step\n",
      "x_train shape :  (50000, 32, 32, 3) y_train shape :  (50000, 1)\n",
      "x_test shape :  (10000, 32, 32, 3) y_test shape :  (10000, 1)\n"
     ]
    }
   ],
   "source": [
    "#케라스로 CIFAR-10 데이터 가져오기\n",
    "(x_train, y_train), (x_test, y_test) = tf.keras.datasets.cifar10.load_data() \n",
    "\n",
    "# x : image, y : label \n",
    "# train : 50000, test : 10000\n",
    "print(\"x_train shape : \", x_train.shape, \"y_train shape : \", y_train.shape)\n",
    "print(\"x_test shape : \", x_test.shape, \"y_test shape : \", y_test.shape)"
   ]
  },
  {
   "cell_type": "markdown",
   "metadata": {},
   "source": [
    "\n",
    "</br>\n",
    "\n",
    "### Data Visualize"
   ]
  },
  {
   "cell_type": "markdown",
   "metadata": {},
   "source": [
    "**0**:airplane, **1**:automobile, **2**:bird, **3**:cat, **4**:deer, **5**:dog, **6**:frog, **7**:horse, **8**:ship, **9**:truck"
   ]
  },
  {
   "cell_type": "code",
   "execution_count": 3,
   "metadata": {
    "ExecuteTime": {
     "end_time": "2020-05-19T04:03:16.013601Z",
     "start_time": "2020-05-19T04:03:16.008602Z"
    }
   },
   "outputs": [
    {
     "name": "stdout",
     "output_type": "stream",
     "text": [
      "test [[6]\n",
      " [9]\n",
      " [9]\n",
      " ...\n",
      " [9]\n",
      " [1]\n",
      " [1]]\n"
     ]
    }
   ],
   "source": [
    "# label definition\n",
    "cifar10_labels = ['airplane',\n",
    "'automobile',\n",
    "'bird',\n",
    "'cat',\n",
    "'deer',\n",
    "'dog',\n",
    "'frog',\n",
    "'horse',\n",
    "'ship',\n",
    "'truck']\n",
    "\n",
    "print('test',y_train)"
   ]
  },
  {
   "cell_type": "code",
   "execution_count": 7,
   "metadata": {
    "ExecuteTime": {
     "end_time": "2020-05-19T04:03:16.212601Z",
     "start_time": "2020-05-19T04:03:16.034603Z"
    }
   },
   "outputs": [
    {
     "name": "stdout",
     "output_type": "stream",
     "text": [
      "y= 3 | cat\n"
     ]
    },
    {
     "data": {
      "text/plain": [
       "<matplotlib.image.AxesImage at 0x7f085916aa10>"
      ]
     },
     "execution_count": 7,
     "metadata": {},
     "output_type": "execute_result"
    },
    {
     "data": {
      "image/png": "[encoded data removed]",
      "text/plain": [
       "<Figure size 432x288 with 1 Axes>"
      ]
     },
     "metadata": {
      "needs_background": "light"
     },
     "output_type": "display_data"
    }
   ],
   "source": [
    "# one random image from x_train\n",
    "#0부터 49999까지 수 중에 하나 랜덤으로 추출\n",
    "img_index = random.randint(0,x_train.shape[0]-1)\n",
    "\n",
    "# label idx\n",
    "# 해당 데이터의 index 추출\n",
    "label_index = y_train[img_index][0]\n",
    "\n",
    "# showing\n",
    "print(\"y=\", str(label_index), \"|\", cifar10_labels[label_index])\n",
    "plt.imshow(x_train[img_index])"
   ]
  },
  {
   "cell_type": "markdown",
   "metadata": {},
   "source": [
    "\n",
    "\n",
    "</br>\n",
    "\n",
    "### Data Normalization\n",
    "\n",
    "- 오차 최저점을 빠르게 찾기 위해서\n"
   ]
  },
  {
   "cell_type": "code",
   "execution_count": 8,
   "metadata": {
    "ExecuteTime": {
     "end_time": "2020-05-19T04:03:17.057600Z",
     "start_time": "2020-05-19T04:03:16.234602Z"
    }
   },
   "outputs": [],
   "source": [
    "# fitting data in similar scale 0~1사이의 값으로 스케일링 진행\n",
    "x_train = x_train.astype('float32') / 255\n",
    "x_test = x_test.astype('float32') / 255"
   ]
  },
  {
   "cell_type": "code",
   "execution_count": 9,
   "metadata": {
    "ExecuteTime": {
     "end_time": "2020-05-19T04:03:17.098604Z",
     "start_time": "2020-05-19T04:03:17.093602Z"
    }
   },
   "outputs": [
    {
     "name": "stdout",
     "output_type": "stream",
     "text": [
      "Number of train data :  50000\n",
      "Number of test data :  10000\n"
     ]
    }
   ],
   "source": [
    "print(\"Number of train data : \", len(x_train))\n",
    "print(\"Number of test data : \", len(x_test))"
   ]
  },
  {
   "cell_type": "markdown",
   "metadata": {},
   "source": [
    "\n",
    "\n",
    "</br>\n",
    "\n",
    "### Split data into Train/Validation/Test data sets\n",
    "train data : data for training model </br>\n",
    "\n",
    "validation data : data for hyperparameter tuning and validation </br>\n",
    "\n",
    "test data : after all validation and training, at the last test "
   ]
  },
  {
   "cell_type": "code",
   "execution_count": 10,
   "metadata": {
    "ExecuteTime": {
     "end_time": "2020-05-19T04:03:17.145600Z",
     "start_time": "2020-05-19T04:03:17.134603Z"
    }
   },
   "outputs": [
    {
     "name": "stdout",
     "output_type": "stream",
     "text": [
      "x_train shape:  (45000, 32, 32, 3)\n",
      "y_train shape:  (45000, 10)\n",
      "45000 train set\n",
      "5000 validation set\n",
      "10000 test set\n"
     ]
    }
   ],
   "source": [
    "# split train | validation\n",
    "(x_train, x_valid) = x_train[5000:], x_train[:5000]\n",
    "(y_train, y_valid) = y_train[5000:], y_train[:5000]\n",
    "\n",
    "# one-hot encoding in label\n",
    "# only one dimension get value 1 and other dimension value 0 \n",
    "y_train = tf.keras.utils.to_categorical(y_train, 10)\n",
    "y_valid = tf.keras.utils.to_categorical(y_valid, 10)\n",
    "y_test = tf.keras.utils.to_categorical(y_test, 10)\n",
    "\n",
    "print(\"x_train shape: \", x_train.shape )\n",
    "print(\"y_train shape: \", y_train.shape )\n",
    "\n",
    "print(x_train.shape[0], 'train set')\n",
    "print(x_valid.shape[0], 'validation set')\n",
    "print(x_test.shape[0], 'test set')"
   ]
  },
  {
   "cell_type": "markdown",
   "metadata": {},
   "source": [
    "\n",
    "</br>\n",
    "\n",
    "\n",
    "### Modeling \n",
    "Conv2D() </br>\n",
    "Pooling() </br>\n",
    "Dropout() </br>"
   ]
  },
  {
   "cell_type": "code",
   "execution_count": 8,
   "metadata": {
    "ExecuteTime": {
     "end_time": "2020-05-19T04:03:17.369604Z",
     "start_time": "2020-05-19T04:03:17.195603Z"
    }
   },
   "outputs": [
    {
     "name": "stdout",
     "output_type": "stream",
     "text": [
      "_________________________________________________________________\n",
      "Layer (type)                 Output Shape              Param #   \n",
      "=================================================================\n",
      "conv2d (Conv2D)              (None, 32, 32, 64)        832       \n",
      "_________________________________________________________________\n",
      "max_pooling2d (MaxPooling2D) (None, 16, 16, 64)        0         \n",
      "_________________________________________________________________\n",
      "dropout (Dropout)            (None, 16, 16, 64)        0         \n",
      "_________________________________________________________________\n",
      "conv2d_1 (Conv2D)            (None, 16, 16, 32)        8224      \n",
      "_________________________________________________________________\n",
      "max_pooling2d_1 (MaxPooling2 (None, 8, 8, 32)          0         \n",
      "_________________________________________________________________\n",
      "dropout_1 (Dropout)          (None, 8, 8, 32)          0         \n",
      "_________________________________________________________________\n",
      "flatten (Flatten)            (None, 2048)              0         \n",
      "_________________________________________________________________\n",
      "dense (Dense)                (None, 256)               524544    \n",
      "_________________________________________________________________\n",
      "dropout_2 (Dropout)          (None, 256)               0         \n",
      "_________________________________________________________________\n",
      "dense_1 (Dense)              (None, 10)                2570      \n",
      "=================================================================\n",
      "Total params: 536,170\n",
      "Trainable params: 536,170\n",
      "Non-trainable params: 0\n",
      "_________________________________________________________________\n"
     ]
    }
   ],
   "source": [
    "#케라스 순차형 모델\n",
    "model = tf.keras.Sequential()\n",
    "\n",
    "#strides= 이런식으로 stride 설정 가능 하지만 padding을 'same'으로 설정하면 stride는 자동으로 설정 됨\n",
    "model.add(tf.keras.layers.Conv2D(filters=64, kernel_size=2, padding='same', activation='relu', input_shape=(32,32,3))) \n",
    "model.add(tf.keras.layers.MaxPooling2D(pool_size=2))\n",
    "model.add(tf.keras.layers.Dropout(0.3)) #과적합 방지\n",
    "\n",
    "model.add(tf.keras.layers.Conv2D(filters=32, kernel_size=2, padding='same', activation='relu'))\n",
    "model.add(tf.keras.layers.MaxPooling2D(pool_size=2))\n",
    "model.add(tf.keras.layers.Dropout(0.3))\n",
    "\n",
    "model.add(tf.keras.layers.Flatten()) #fully connected layer (쭉 펼치는 과정)\n",
    "\n",
    "model.add(tf.keras.layers.Dense(256, activation='relu'))\n",
    "model.add(tf.keras.layers.Dropout(0.3))\n",
    "\n",
    "model.add(tf.keras.layers.Dense(10, activation='softmax'))\n",
    "# 2진 분류라면 sigmoid 사용하면 된다.\n",
    "\n",
    "model.summary()"
   ]
  },
  {
   "cell_type": "markdown",
   "metadata": {},
   "source": [
    "### 본인만의 모델을 설계해 보세요 ^^\n",
    "\n",
    "- 첫 번째 conv2D 층의 경우 input_shape (32,32,3)을 꼭 지정해주세요\n",
    "- [Conv2d] 층의 경우 filter와 kernel_size만 수정해서 추가\n",
    "\n",
    "- [MaxPooling2D] 층의 경우 2로만 5개 층 이하로 사용\n",
    "\n",
    "- [Dropout] 층의 경우 웬만하면 0.5 이하로 추가\n",
    "\n",
    "- [Flatten] 층의 경우 Dense 층 전에 넣어주기\n",
    "\n",
    "- [Dense] 층의 경우 맨마지막 10이 되도록\n",
    "--------------------------------------------------------------"
   ]
  },
  {
   "cell_type": "markdown",
   "metadata": {},
   "source": [
    "- keras layer에 대한 보충 설명 참고자료\n",
    "- https://keras.io/ko/layers/convolutional/\n",
    "- https://zereight.tistory.com/227\n",
    "- https://tykimos.github.io/2017/01/27/CNN_Layer_Talk/"
   ]
  },
  {
   "cell_type": "code",
   "execution_count": 12,
   "metadata": {
    "ExecuteTime": {
     "end_time": "2020-05-19T04:03:17.853600Z",
     "start_time": "2020-05-19T04:03:17.436604Z"
    }
   },
   "outputs": [
    {
     "name": "stdout",
     "output_type": "stream",
     "text": [
      "WARNING:tensorflow:From /home/pirl/anaconda3/lib/python3.7/site-packages/tensorflow_core/python/ops/resource_variable_ops.py:1630: calling BaseResourceVariable.__init__ (from tensorflow.python.ops.resource_variable_ops) with constraint is deprecated and will be removed in a future version.\n",
      "Instructions for updating:\n",
      "If using Keras pass *_constraint arguments to layers.\n",
      "Model: \"sequential\"\n",
      "_________________________________________________________________\n",
      "Layer (type)                 Output Shape              Param #   \n",
      "=================================================================\n",
      "conv2d (Conv2D)              (None, 32, 32, 64)        4864      \n",
      "_________________________________________________________________\n",
      "max_pooling2d (MaxPooling2D) (None, 16, 16, 64)        0         \n",
      "_________________________________________________________________\n",
      "dropout (Dropout)            (None, 16, 16, 64)        0         \n",
      "_________________________________________________________________\n",
      "conv2d_1 (Conv2D)            (None, 16, 16, 64)        147520    \n",
      "_________________________________________________________________\n",
      "max_pooling2d_1 (MaxPooling2 (None, 8, 8, 64)          0         \n",
      "_________________________________________________________________\n",
      "dropout_1 (Dropout)          (None, 8, 8, 64)          0         \n",
      "_________________________________________________________________\n",
      "conv2d_2 (Conv2D)            (None, 8, 8, 32)          32800     \n",
      "_________________________________________________________________\n",
      "max_pooling2d_2 (MaxPooling2 (None, 4, 4, 32)          0         \n",
      "_________________________________________________________________\n",
      "dropout_2 (Dropout)          (None, 4, 4, 32)          0         \n",
      "_________________________________________________________________\n",
      "conv2d_3 (Conv2D)            (None, 4, 4, 16)          2064      \n",
      "_________________________________________________________________\n",
      "dropout_3 (Dropout)          (None, 4, 4, 16)          0         \n",
      "_________________________________________________________________\n",
      "conv2d_4 (Conv2D)            (None, 4, 4, 16)          1040      \n",
      "_________________________________________________________________\n",
      "dropout_4 (Dropout)          (None, 4, 4, 16)          0         \n",
      "_________________________________________________________________\n",
      "conv2d_5 (Conv2D)            (None, 4, 4, 8)           520       \n",
      "_________________________________________________________________\n",
      "dropout_5 (Dropout)          (None, 4, 4, 8)           0         \n",
      "_________________________________________________________________\n",
      "flatten (Flatten)            (None, 128)               0         \n",
      "_________________________________________________________________\n",
      "dense (Dense)                (None, 256)               33024     \n",
      "_________________________________________________________________\n",
      "dropout_6 (Dropout)          (None, 256)               0         \n",
      "_________________________________________________________________\n",
      "dense_1 (Dense)              (None, 128)               32896     \n",
      "_________________________________________________________________\n",
      "dense_2 (Dense)              (None, 64)                8256      \n",
      "_________________________________________________________________\n",
      "dense_3 (Dense)              (None, 10)                650       \n",
      "=================================================================\n",
      "Total params: 263,634\n",
      "Trainable params: 263,634\n",
      "Non-trainable params: 0\n",
      "_________________________________________________________________\n"
     ]
    }
   ],
   "source": [
    "\n",
    "\n",
    "model = tf.keras.Sequential()\n",
    "\n",
    "\n",
    "model.add(tf.keras.layers.Conv2D(filters=64, kernel_size=5, padding='same', activation='relu', input_shape=(32,32,3)))\n",
    "model.add(tf.keras.layers.MaxPooling2D(pool_size=2))\n",
    "model.add(tf.keras.layers.Dropout(0.2))\n",
    "\n",
    "model.add(tf.keras.layers.Conv2D(filters=64, kernel_size=6, padding='same', activation='relu'))\n",
    "model.add(tf.keras.layers.MaxPooling2D(pool_size=2))\n",
    "model.add(tf.keras.layers.Dropout(0.2))\n",
    "\n",
    "\n",
    "model.add(tf.keras.layers.Conv2D(filters=32, kernel_size=4, padding='same', activation='relu'))\n",
    "model.add(tf.keras.layers.MaxPooling2D(pool_size=2))\n",
    "model.add(tf.keras.layers.Dropout(0.2))\n",
    "\n",
    "\n",
    "model.add(tf.keras.layers.Conv2D(filters=16, kernel_size=2, padding='same', activation='relu'))\n",
    "model.add(tf.keras.layers.Dropout(0.3))\n",
    "\n",
    "\n",
    "model.add(tf.keras.layers.Conv2D(filters=16, kernel_size=2, padding='same', activation='relu'))\n",
    "model.add(tf.keras.layers.Dropout(0.3))\n",
    "\n",
    "\n",
    "model.add(tf.keras.layers.Conv2D(filters=8, kernel_size=2, padding='same', activation='relu'))\n",
    "model.add(tf.keras.layers.Dropout(0.3))\n",
    "\n",
    "\n",
    "model.add(tf.keras.layers.Flatten()) #fully connected layer\n",
    "\n",
    "model.add(tf.keras.layers.Dense(256, activation='relu'))\n",
    "model.add(tf.keras.layers.Dropout(0.3))\n",
    "\n",
    "model.add(tf.keras.layers.Dense(128, activation='relu'))\n",
    "\n",
    "model.add(tf.keras.layers.Dense(64, activation='relu'))\n",
    "\n",
    "model.add(tf.keras.layers.Dense(10, activation='softmax'))\n",
    "\n",
    "model.summary()\n",
    "\n",
    "\n"
   ]
  },
  {
   "cell_type": "markdown",
   "metadata": {},
   "source": [
    "----------------------------------------------------------"
   ]
  },
  {
   "cell_type": "markdown",
   "metadata": {},
   "source": [
    "\n",
    "</br>\n",
    "\n",
    "### Model Compile\n",
    "학습 프로세스 구성</br>\n",
    "optimizer, loss function, metrics "
   ]
  },
  {
   "cell_type": "code",
   "execution_count": 13,
   "metadata": {
    "ExecuteTime": {
     "end_time": "2020-05-19T04:03:18.047602Z",
     "start_time": "2020-05-19T04:03:17.902602Z"
    }
   },
   "outputs": [],
   "source": [
    "model.compile(loss='categorical_crossentropy',\n",
    "              optimizer = tf.keras.optimizers.Adam(lr=0.001),\n",
    "              metrics = ['accuracy']) # 평가 기준 "
   ]
  },
  {
   "cell_type": "markdown",
   "metadata": {},
   "source": [
    "\n",
    "\n",
    "</br>\n",
    "\n",
    "### Model Training\n",
    "ModelCheckpoint API로 epoch마다 모델 저장 "
   ]
  },
  {
   "cell_type": "code",
   "execution_count": 14,
   "metadata": {
    "ExecuteTime": {
     "end_time": "2020-05-19T04:04:50.027604Z",
     "start_time": "2020-05-19T04:03:18.123604Z"
    },
    "scrolled": true
   },
   "outputs": [
    {
     "name": "stdout",
     "output_type": "stream",
     "text": [
      "Train on 45000 samples, validate on 5000 samples\n",
      "Epoch 1/10\n",
      "44992/45000 [============================>.] - ETA: 0s - loss: 1.9721 - acc: 0.2307\n",
      "Epoch 00001: val_loss improved from inf to 1.71927, saving model to model.weights.best.hdf5\n",
      "45000/45000 [==============================] - 169s 4ms/sample - loss: 1.9721 - acc: 0.2307 - val_loss: 1.7193 - val_acc: 0.3176\n",
      "Epoch 2/10\n",
      "44992/45000 [============================>.] - ETA: 0s - loss: 1.6861 - acc: 0.3523\n",
      "Epoch 00002: val_loss improved from 1.71927 to 1.56347, saving model to model.weights.best.hdf5\n",
      "45000/45000 [==============================] - 167s 4ms/sample - loss: 1.6862 - acc: 0.3523 - val_loss: 1.5635 - val_acc: 0.4002\n",
      "Epoch 3/10\n",
      "44992/45000 [============================>.] - ETA: 0s - loss: 1.5693 - acc: 0.4067\n",
      "Epoch 00003: val_loss improved from 1.56347 to 1.43664, saving model to model.weights.best.hdf5\n",
      "45000/45000 [==============================] - 167s 4ms/sample - loss: 1.5692 - acc: 0.4067 - val_loss: 1.4366 - val_acc: 0.4632\n",
      "Epoch 4/10\n",
      "44992/45000 [============================>.] - ETA: 0s - loss: 1.4967 - acc: 0.4405\n",
      "Epoch 00004: val_loss improved from 1.43664 to 1.35893, saving model to model.weights.best.hdf5\n",
      "45000/45000 [==============================] - 168s 4ms/sample - loss: 1.4966 - acc: 0.4405 - val_loss: 1.3589 - val_acc: 0.4906\n",
      "Epoch 5/10\n",
      "44992/45000 [============================>.] - ETA: 0s - loss: 1.4369 - acc: 0.4676\n",
      "Epoch 00005: val_loss improved from 1.35893 to 1.31253, saving model to model.weights.best.hdf5\n",
      "45000/45000 [==============================] - 168s 4ms/sample - loss: 1.4370 - acc: 0.4676 - val_loss: 1.3125 - val_acc: 0.5162\n",
      "Epoch 6/10\n",
      "44992/45000 [============================>.] - ETA: 0s - loss: 1.3943 - acc: 0.4893\n",
      "Epoch 00006: val_loss did not improve from 1.31253\n",
      "45000/45000 [==============================] - 168s 4ms/sample - loss: 1.3942 - acc: 0.4893 - val_loss: 1.4483 - val_acc: 0.4794\n",
      "Epoch 7/10\n",
      "44992/45000 [============================>.] - ETA: 0s - loss: 1.3444 - acc: 0.5041\n",
      "Epoch 00007: val_loss improved from 1.31253 to 1.27298, saving model to model.weights.best.hdf5\n",
      "45000/45000 [==============================] - 168s 4ms/sample - loss: 1.3444 - acc: 0.5041 - val_loss: 1.2730 - val_acc: 0.5416\n",
      "Epoch 8/10\n",
      "44992/45000 [============================>.] - ETA: 0s - loss: 1.3156 - acc: 0.5182\n",
      "Epoch 00008: val_loss improved from 1.27298 to 1.22460, saving model to model.weights.best.hdf5\n",
      "45000/45000 [==============================] - 168s 4ms/sample - loss: 1.3155 - acc: 0.5182 - val_loss: 1.2246 - val_acc: 0.5600\n",
      "Epoch 9/10\n",
      "44992/45000 [============================>.] - ETA: 0s - loss: 1.2819 - acc: 0.5352\n",
      "Epoch 00009: val_loss improved from 1.22460 to 1.14586, saving model to model.weights.best.hdf5\n",
      "45000/45000 [==============================] - 168s 4ms/sample - loss: 1.2820 - acc: 0.5351 - val_loss: 1.1459 - val_acc: 0.5850\n",
      "Epoch 10/10\n",
      "44992/45000 [============================>.] - ETA: 0s - loss: 1.2625 - acc: 0.5389\n",
      "Epoch 00010: val_loss improved from 1.14586 to 1.13036, saving model to model.weights.best.hdf5\n",
      "45000/45000 [==============================] - 167s 4ms/sample - loss: 1.2626 - acc: 0.5388 - val_loss: 1.1304 - val_acc: 0.5934\n"
     ]
    },
    {
     "data": {
      "text/plain": [
       "<tensorflow.python.keras.callbacks.History at 0x7f0859c19d50>"
      ]
     },
     "execution_count": 14,
     "metadata": {},
     "output_type": "execute_result"
    }
   ],
   "source": [
    "from tensorflow.keras.callbacks import ModelCheckpoint\n",
    "\n",
    "checkpointer = ModelCheckpoint(filepath = 'model.weights.best.hdf5', verbose = 1, save_best_only=True) # verbose 1 : seeing progress \n",
    "#좋은 결과만 넣어준다.\n",
    "model.fit(x_train,\n",
    "          y_train,\n",
    "          batch_size=64,\n",
    "          epochs=10,\n",
    "          validation_data=(x_valid,y_valid),\n",
    "         callbacks=[checkpointer]) #위에서 지정한 체크포인트 콜백"
   ]
  },
  {
   "cell_type": "markdown",
   "metadata": {},
   "source": [
    "### Model Test"
   ]
  },
  {
   "cell_type": "code",
   "execution_count": 15,
   "metadata": {
    "ExecuteTime": {
     "end_time": "2020-05-19T04:04:51.242605Z",
     "start_time": "2020-05-19T04:04:50.101603Z"
    }
   },
   "outputs": [
    {
     "name": "stdout",
     "output_type": "stream",
     "text": [
      "10000/10000 [==============================] - 8s 813us/sample - loss: 1.1393 - acc: 0.5892\n",
      "Test Accuracy:  0.5892\n"
     ]
    }
   ],
   "source": [
    "# get the best valid weight\n",
    "model.load_weights('model.weights.best.hdf5') \n",
    "\n",
    "\n",
    "# Test Accuracy\n",
    "score = model.evaluate(x_test, y_test, verbose=1)\n",
    "\n",
    "print(\"Test Accuracy: \", score[1])  # [0] : test loss, [1] : accuracy"
   ]
  },
  {
   "cell_type": "markdown",
   "metadata": {},
   "source": [
    "\n",
    "\n",
    "</br>\n",
    "\n",
    "### Visualize Prediction"
   ]
  },
  {
   "cell_type": "markdown",
   "metadata": {},
   "source": [
    "#### np.random.choice(a, size=None, replace=True, p=None)\n",
    "- a : 데이터를 넣어주면 된다. 배열이면 원래의 데이터, 정수이면 range(a) 명령으로 데이터 생성\n",
    "- size : 정수. 샘플 숫자 shape으로 넣으면 매트릭스를 생성\n",
    "- replace : 중복의 허용 여부. 불리언. True이면 한번 선택한 데이터를 다시 선택 가능\n",
    "- p : 배열. 각 데이터가 선택될 수 있는 확률"
   ]
  },
  {
   "cell_type": "code",
   "execution_count": 13,
   "metadata": {
    "ExecuteTime": {
     "end_time": "2020-05-19T04:04:52.656605Z",
     "start_time": "2020-05-19T04:04:51.296602Z"
    }
   },
   "outputs": [
    {
     "data": {
      "image/png": "[encoded data removed]",
      "text/plain": [
       "<Figure size 1440x576 with 15 Axes>"
      ]
     },
     "metadata": {},
     "output_type": "display_data"
    }
   ],
   "source": [
    "y_hat = model.predict(x_test)\n",
    "\n",
    "figure = plt.figure(figsize=(20,8))\n",
    "\n",
    "for i, index in enumerate(np.random.choice(x_test.shape[0], size=15, replace=False)):\n",
    "    axis = figure.add_subplot(3,5, i+1, xticks=[], yticks=[])\n",
    "    #axis.imshow(np.squeeze(x_test[index])) 혹시나 4차원일까봐 3차원으로 차원을 감소\n",
    "    axis.imshow(x_test[index])\n",
    "    predict_index = np.argmax(y_hat[index]) #pidict_index를 뽑아낸다.\n",
    "    true_index = np.argmax(y_test[index])\n",
    "    \n",
    "    axis.set_title(\"{} ({})\".format(cifar10_labels[predict_index],\n",
    "                                   cifar10_labels[true_index]),\n",
    "                                   color = (\"green\" if predict_index == true_index else \"red\"))\n",
    "    #맞췄는지 못맞췄는지 확인하는 과정"
   ]
  },
  {
   "cell_type": "markdown",
   "metadata": {},
   "source": [
    "- matplotlib.figure 참고\n",
    "- https://m.blog.naver.com/PostView.nhn?blogId=jung2381187&logNo=220408468960&proxyReferer=https%3A%2F%2Fwww.google.com%2F"
   ]
  }
 ],
 "metadata": {
  "hide_input": false,
  "kernelspec": {
   "display_name": "edu",
   "language": "python",
   "name": "edu"
  },
  "language_info": {
   "codemirror_mode": {
    "name": "ipython",
    "version": 3
   },
   "file_extension": ".py",
   "mimetype": "text/x-python",
   "name": "python",
   "nbconvert_exporter": "python",
   "pygments_lexer": "ipython3",
   "version": "3.7.6"
  },
  "toc": {
   "base_numbering": 1,
   "nav_menu": {},
   "number_sections": true,
   "sideBar": true,
   "skip_h1_title": false,
   "title_cell": "Table of Contents",
   "title_sidebar": "Contents",
   "toc_cell": false,
   "toc_position": {},
   "toc_section_display": true,
   "toc_window_display": true
  },
  "varInspector": {
   "cols": {
    "lenName": 16,
    "lenType": 16,
    "lenVar": 40
   },
   "kernels_config": {
    "python": {
     "delete_cmd_postfix": "",
     "delete_cmd_prefix": "del ",
     "library": "var_list.py",
     "varRefreshCmd": "print(var_dic_list())"
    },
    "r": {
     "delete_cmd_postfix": ") ",
     "delete_cmd_prefix": "rm(",
     "library": "var_list.r",
     "varRefreshCmd": "cat(var_dic_list()) "
    }
   },
   "types_to_exclude": [
    "module",
    "function",
    "builtin_function_or_method",
    "instance",
    "_Feature"
   ],
   "window_display": false
  }
 },
 "nbformat": 4,
 "nbformat_minor": 2
}
