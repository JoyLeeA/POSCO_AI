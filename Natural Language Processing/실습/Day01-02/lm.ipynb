{
 "cells": [
  {
   "cell_type": "markdown",
   "metadata": {},
   "source": [
    "## 20200602 Tuesday"
   ]
  },
  {
   "cell_type": "code",
   "execution_count": 1,
   "metadata": {},
   "outputs": [],
   "source": [
    "import torch.nn as nn\n",
    "import torch\n",
    "import torch.nn.utils.rnn as rnn\n",
    "import statistics\n",
    "import nltk\n",
    "import random\n",
    "import collections\n",
    "import time\n"
   ]
  },
  {
   "cell_type": "code",
   "execution_count": 2,
   "metadata": {},
   "outputs": [
    {
     "name": "stdout",
     "output_type": "stream",
     "text": [
      "cuda\n"
     ]
    }
   ],
   "source": [
    " # Set cuda if available\n",
    "device = torch.device(\"cuda\") if torch.cuda.is_available() else torch.device(\"cpu\")\n",
    "print(device)"
   ]
  },
  {
   "cell_type": "code",
   "execution_count": 3,
   "metadata": {},
   "outputs": [],
   "source": [
    "## Dictionary class 선언\n",
    "\n",
    "class Dictionary(object):\n",
    "    def __init__(self, dataset, size):\n",
    "        ## init vocab ##\n",
    "        self.word2idx = {'<pad>':0, '<sos>': 1, '<eos>': 2, '<unk>': 3}\n",
    "        self.idx2word = ['<pad>', '<sos>', '<eos>', '<unk>'] #idx를 넣어주면 이 친구들이 나온다\n",
    "\n",
    "        self.build_dict(dataset, size)\n",
    "\n",
    "    def __call__(self, word):\n",
    "        return self.word2idx.get(word, 3) # if word does not exist in vocab then return unk idx\n",
    "\n",
    "    def add_word(self, word):\n",
    "        if word not in self.word2idx:\n",
    "            self.idx2word.append(word)\n",
    "            self.word2idx[word] = len(self.idx2word) - 1\n",
    "        return self.word2idx[word]\n",
    "\n",
    "    def build_dict(self, dataset, dict_size): #사전을 만들어주는 역할\n",
    "        \"\"\"Tokenizes a text file.\"\"\"\n",
    "        total_words = (word for sent in dataset for word in sent)\n",
    "        word_freq = collections.Counter(total_words) # count the number of each word {'the':100, 'a':1000, 'NLP':50...} / 빈도수 정렬\n",
    "        vocab = sorted(word_freq.keys(), key=lambda word: (-word_freq[word], word)) # sort by frequency [the, a , am, we, ...]\n",
    "        vocab = vocab[:dict_size]\n",
    "        for word in vocab:\n",
    "            self.add_word(word)\n",
    "\n",
    "    def __len__(self):\n",
    "        return len(self.idx2word)\n"
   ]
  },
  {
   "cell_type": "code",
   "execution_count": 4,
   "metadata": {},
   "outputs": [],
   "source": [
    "## Brown dataset Preprocessing (NLTK) 전처리 단계\n",
    "def brown_dataset(min=5, max=30):\n",
    "    nltk.download('brown') #학습말뭉치 다운로드\n",
    "\n",
    "    # get sentences with the length between min and max\n",
    "    # convert all words into lower-case // 소문자로 변환\n",
    "    all_seq = [[token.lower() for token in seq] for seq in nltk.corpus.brown.sents() if min <= len(seq) <= max]\n",
    "\n",
    "    random.shuffle(all_seq) # shuffle\n",
    "    return all_seq"
   ]
  },
  {
   "cell_type": "code",
   "execution_count": 5,
   "metadata": {},
   "outputs": [
    {
     "name": "stderr",
     "output_type": "stream",
     "text": [
      "[nltk_data] Downloading package brown to /home/pirl/nltk_data...\n",
      "[nltk_data]   Package brown is already up-to-date!\n"
     ]
    },
    {
     "name": "stdout",
     "output_type": "stream",
     "text": [
      "['the', 'inner', 'panels', 'do', 'not', 'have', 'to', 'be', 'weatherproof', ',', 'and', 'the', 'choice', 'will', 'depend', 'on', 'the', 'quality', 'of', 'finish', 'desired', '.']\n",
      "['somebody', 'with', 'no', 'vices', '.']\n",
      "['from', 'childhood', 'he', 'had', 'known', 'all', 'about', 'knives', '.']\n"
     ]
    }
   ],
   "source": [
    "## Download Brown dataset\n",
    "dataset = brown_dataset()\n",
    "\n",
    "## print some part\n",
    "print(dataset[0])\n",
    "print(dataset[1])\n",
    "print(dataset[2])"
   ]
  },
  {
   "cell_type": "code",
   "execution_count": 6,
   "metadata": {},
   "outputs": [],
   "source": [
    "## Data Handling class 선언\n",
    "\n",
    "class Corpus(object): # 위에 데이터셋, CPU or GPU, 사전 크기, 트레이닝 비율 (나머지는 테스트)\n",
    "    def __init__(self, dataset, device, dict_size=20000, train_ratio=0.95):\n",
    "        train_size = int(len(dataset) * train_ratio)\n",
    "        valid_size = len(dataset) - train_size\n",
    "        self.device = device\n",
    "        self.dictionary = Dictionary(dataset, dict_size)\n",
    "        self.train = dataset[:train_size]\n",
    "        self.valid = dataset[:valid_size]\n",
    "\n",
    "    def indexing(self, dat): # 매칭되는 인덱스 만들기\n",
    "        src_idxes = []\n",
    "        tgt_idxes = []\n",
    "        for sent in dat:\n",
    "            src_idx = [self.dictionary('<sos>')] + [self.dictionary(word) for word in sent] #시작\n",
    "            tgt_idx = [self.dictionary(word) for word in sent] + [self.dictionary('<eos>')] #끝\n",
    "            src_idxes.append(torch.tensor(src_idx).type(torch.int64)) # append 해서 matrix로 만드는 역할\n",
    "            tgt_idxes.append(torch.tensor(tgt_idx).type(torch.int64)) # append 해서 matrix로 만드는 역할\n",
    "\n",
    "        src_idxes = rnn.pad_sequence(src_idxes, batch_first=True).to(self.device) # shape = [B, L]\n",
    "        tgt_idxes = rnn.pad_sequence(tgt_idxes, batch_first=True).to(self.device).view(-1) # flatten shape = [B * L]\n",
    "\n",
    "        return src_idxes, tgt_idxes\n",
    "\n",
    "    def batch_iter(self, batch_size, isTrain=True): # False면 학습 X\n",
    "        dat = self.train if isTrain else self.valid \n",
    "        if isTrain: # 훈련이면 셔플\n",
    "            random.shuffle(dat)\n",
    "\n",
    "        for i in range(len(dat) // batch_size):\n",
    "            batch = dat[i * batch_size: (i+1) * batch_size]\n",
    "            src, tgt = self.indexing(batch)\n",
    "            yield {'src': src, 'tgt': tgt}"
   ]
  },
  {
   "cell_type": "code",
   "execution_count": 7,
   "metadata": {},
   "outputs": [],
   "source": [
    "corpus = Corpus(dataset, device)"
   ]
  },
  {
   "cell_type": "code",
   "execution_count": 8,
   "metadata": {},
   "outputs": [
    {
     "name": "stdout",
     "output_type": "stream",
     "text": [
      "word:  <pad>      | index:     0 \n",
      "word:  <sos>      | index:     1 \n",
      "word:  <eos>      | index:     2 \n",
      "word:  <unk>      | index:     3 \n",
      "word:  the        | index:     4 \n",
      "word:  .          | index:     5 \n",
      "word:  ,          | index:     6 \n",
      "word:  of         | index:     7 \n",
      "word:  and        | index:     8 \n",
      "word:  to         | index:     9 \n",
      "word:  a          | index:    10 \n",
      "word:  in         | index:    11 \n",
      "word:  was        | index:    12 \n",
      "word:  he         | index:    13 \n",
      "word:  is         | index:    14 \n",
      "word:  ''         | index:    15 \n",
      "word:  ``         | index:    16 \n",
      "word:  it         | index:    17 \n",
      "word:  that       | index:    18 \n",
      "word:  for        | index:    19 \n",
      "word:  ;          | index:    20 \n"
     ]
    }
   ],
   "source": [
    "# Dictionary 확인\n",
    "\n",
    "for i, (key, val) in enumerate(corpus.dictionary.word2idx.items()):\n",
    "    print('word:  {:10s} | index: {:5d} '.format(key, val))\n",
    "    if i == 20:\n",
    "        break\n"
   ]
  },
  {
   "cell_type": "code",
   "execution_count": 9,
   "metadata": {},
   "outputs": [
    {
     "name": "stdout",
     "output_type": "stream",
     "text": [
      "[['somebody', 'with', 'no', 'vices', '.']]\n",
      "tensor([[    1,  1841,    22,    56, 12178,     5]], device='cuda:0')\n",
      "tensor([ 1841,    22,    56, 12178,     5,     2], device='cuda:0')\n",
      "------------------------------------------------------------------------------------------\n",
      "[['the', 'inner', 'panels', 'do', 'not', 'have', 'to', 'be', 'weatherproof', ',', 'and', 'the', 'choice', 'will', 'depend', 'on', 'the', 'quality', 'of', 'finish', 'desired', '.'], ['somebody', 'with', 'no', 'vices', '.']]\n",
      "tensor([[    1,     4,  1720,  2128,    81,    32,    37,     9,    26, 15212,\n",
      "             6,     8,     4,   817,    57,  2875,    24,     4,   892,     7,\n",
      "          2489,  2399,     5],\n",
      "        [    1,  1841,    22,    56, 12178,     5,     0,     0,     0,     0,\n",
      "             0,     0,     0,     0,     0,     0,     0,     0,     0,     0,\n",
      "             0,     0,     0]], device='cuda:0')\n",
      "tensor([    4,  1720,  2128,    81,    32,    37,     9,    26, 15212,     6,\n",
      "            8,     4,   817,    57,  2875,    24,     4,   892,     7,  2489,\n",
      "         2399,     5,     2,  1841,    22,    56, 12178,     5,     2,     0,\n",
      "            0,     0,     0,     0,     0,     0,     0,     0,     0,     0,\n",
      "            0,     0,     0,     0,     0,     0], device='cuda:0')\n"
     ]
    }
   ],
   "source": [
    "## indexing 함수 결과 확인\n",
    "\n",
    "# case : 단일 문장 입력 시. \n",
    "sent = [dataset[1]]\n",
    "idx_src, idx_tgt = corpus.indexing(sent)\n",
    "\n",
    "print(sent) \n",
    "print(idx_src) # <SOS> index로 시작\n",
    "print(idx_tgt) # <EOS> index로 종료\n",
    "\n",
    "print('-' * 90)\n",
    "## case : 복수 문장 입력 시 (batching)\n",
    "batch = [dataset[0], dataset[1]]\n",
    "idx_src, idx_tgt = corpus.indexing(batch)\n",
    "\n",
    "print(batch) # 입력된 값\n",
    "print(idx_src) # 가장 길이가 긴 문장 (dataset[0]) 보다 짧은 문장 (dataset[1]) 의 경우 남는 길이만큼 padding=0 삽입 확인.\n",
    "print(idx_tgt)"
   ]
  },
  {
   "cell_type": "code",
   "execution_count": 10,
   "metadata": {},
   "outputs": [],
   "source": [
    "## RNN Language model 선언\n",
    "\n",
    "# Define network\n",
    "class RNNModel(nn.Module):\n",
    "    def __init__(self, ntoken, hidden_size, nlayers, dropout=0.1): # ntoken = dict_size , hidden_size = embedding vector 차원 크기\n",
    "        super(RNNModel, self).__init__()\n",
    "        self.drop = nn.Dropout(dropout)\n",
    "        self.embeddings = nn.Embedding(ntoken, hidden_size, padding_idx=0)\n",
    "        self.rnn = nn.LSTM(hidden_size, hidden_size, nlayers, dropout=dropout, batch_first=True) # 이전 히든 사이즈, RNN을 거친 히든 사이즈 ...\n",
    "        self.output_layer = nn.Linear(hidden_size, ntoken)\n",
    "        self.sm = nn.LogSoftmax(dim=1)\n",
    "\n",
    "        self.ntoken = ntoken\n",
    "        self.hidden_size = hidden_size\n",
    "        self.nlayers = nlayers\n",
    "\n",
    "        self.init_weights()\n",
    "\n",
    "    def init_weights(self):\n",
    "        initrange = 0.1\n",
    "        self.embeddings.weight.data.uniform_(-initrange, initrange)\n",
    "        self.output_layer.weight.data.uniform_(-initrange, initrange)\n",
    "        self.output_layer.bias.data.zero_()\n",
    "\n",
    "    def forward(self, input, hidden): # input_shape = (batch, length)\n",
    "        emb = self.embeddings(input) # emb = (batch, length, dim) 임베딩을 거치며 dimention이 하나 생김\n",
    "        output, hidden = self.rnn(emb, hidden) # output = (batch. length. dim)\n",
    "        output = self.drop(output)\n",
    "        output = self.output_layer(output) #output = (batch, length, vocab_size)\n",
    "        output = output.view(-1, self.ntoken) # output = (batch * length, dim) // flatten 과정\n",
    "\n",
    "        return self.sm(output), hidden\n",
    "\n",
    "    def init_hidden(self, bsz):\n",
    "        weight = next(self.parameters()) # to set init tensor with the same torch.dtype and torch.device\n",
    "        return (weight.new_zeros(self.nlayers, bsz, self.hidden_size),\n",
    "                weight.new_zeros(self.nlayers, bsz, self.hidden_size))\n"
   ]
  },
  {
   "cell_type": "code",
   "execution_count": 11,
   "metadata": {},
   "outputs": [],
   "source": [
    "# Hyperparameters\n",
    "batch_size = 40\n",
    "hidden_size = 256\n",
    "dropout = 0.2\n",
    "max_epoch = 30\n",
    "\n",
    "# build model (모델 생성)\n",
    "ntokens = len(corpus.dictionary) # 사전 크기 전달 받음\n",
    "model = RNNModel(ntokens, hidden_size, 2, dropout).to(device)\n",
    "\n",
    "# set loss func and optimizer\n",
    "optimizer = torch.optim.Adam(model.parameters(), lr=0.005)\n",
    "criterion = nn.NLLLoss(ignore_index=0, reduction='mean')"
   ]
  },
  {
   "cell_type": "code",
   "execution_count": 12,
   "metadata": {},
   "outputs": [],
   "source": [
    "##### Training / Evaluation Parts #######"
   ]
  },
  {
   "cell_type": "code",
   "execution_count": 13,
   "metadata": {},
   "outputs": [],
   "source": [
    "# accuracy\n",
    "def cal_acc(scores, target):\n",
    "    pred = scores.max(-1)[1]\n",
    "    non_pad = target.ne(0)\n",
    "    num_correct = pred.eq(target).masked_select(non_pad).sum().item() \n",
    "    num_non_pad = non_pad.sum().item()\n",
    "    return 100 * (num_correct / num_non_pad)"
   ]
  },
  {
   "cell_type": "code",
   "execution_count": 14,
   "metadata": {},
   "outputs": [],
   "source": [
    "# train func(가장 중요.)\n",
    "def train():\n",
    "    model.train() # Turn on training mode which enables dropout.\n",
    "    mean_loss = []\n",
    "    mean_acc = []\n",
    "    start_time = time.time()\n",
    "\n",
    "    # batch['src'], batch['tgt']\n",
    "    for batch in corpus.batch_iter(batch_size): # 학습데이터가 batch에 담긴다.\n",
    "        hidden = model.init_hidden(batch_size) # zero vectors for init hidden RNN의 첫 번째 hidden vector를 0으로 초기화\n",
    "        target = batch['tgt'] # flattened target \n",
    "        optimizer.zero_grad()\n",
    "        output, hidden = model(batch['src'], hidden) # output = flatten output = [Batch_size * Length, vocab_size]\n",
    "\n",
    "        loss = criterion(output, target) # compare between vocab_prob and answer_prob(one-hot converted)\n",
    "        loss.backward()\n",
    "        optimizer.step()\n",
    "\n",
    "        mean_loss.append(loss.item())\n",
    "        mean_acc.append(cal_acc(output, target))\n",
    "\n",
    "    total_time = time.time() - start_time\n",
    "    mean_acc = statistics.mean(mean_acc)\n",
    "    mean_loss = statistics.mean(mean_loss)\n",
    "\n",
    "    return mean_loss, total_time, mean_acc"
   ]
  },
  {
   "cell_type": "code",
   "execution_count": 15,
   "metadata": {},
   "outputs": [],
   "source": [
    "# evaluation func.\n",
    "def evaluate():\n",
    "    model.eval() # Turn off dropout\n",
    "    mean_loss = []\n",
    "    mean_acc = []\n",
    "\n",
    "    for batch in corpus.batch_iter(batch_size, isTrain=False):\n",
    "        with torch.no_grad():\n",
    "            hidden = model.init_hidden(batch_size)\n",
    "            target = batch['tgt']\n",
    "            output, hidden = model(batch['src'], hidden)\n",
    "            loss = criterion(output, target)\n",
    "            mean_loss.append(loss.item())\n",
    "            mean_acc.append(cal_acc(output, target))\n",
    "\n",
    "    mean_acc = statistics.mean(mean_acc)\n",
    "    mean_loss = statistics.mean(mean_loss)\n",
    "\n",
    "    return mean_loss, mean_acc"
   ]
  },
  {
   "cell_type": "code",
   "execution_count": 16,
   "metadata": {},
   "outputs": [
    {
     "name": "stdout",
     "output_type": "stream",
     "text": [
      "epoch    2 | times 23.597 |  loss: 6.277 | accuracy: 16.10\n",
      "epoch    3 | times 23.767 |  loss: 5.556 | accuracy: 20.82\n",
      "epoch    4 | times 23.906 |  loss: 5.299 | accuracy: 22.19\n",
      "epoch    5 | times 23.873 |  loss: 5.105 | accuracy: 23.06\n",
      "epoch    6 | times 23.887 |  loss: 4.946 | accuracy: 23.72\n",
      "epoch    7 | times 23.965 |  loss: 4.808 | accuracy: 24.24\n",
      "epoch    8 | times 23.740 |  loss: 4.684 | accuracy: 24.65\n",
      "epoch    9 | times 24.049 |  loss: 4.571 | accuracy: 25.01\n",
      "epoch   10 | times 24.067 |  loss: 4.465 | accuracy: 25.37\n",
      "epoch   11 | times 24.057 |  loss: 4.368 | accuracy: 25.70\n",
      "============================================================\n",
      "Evaluation | loss: 11.000 | accuracy: 24.06\n",
      "============================================================\n",
      "epoch   12 | times 18.774 |  loss: 4.281 | accuracy: 26.07\n",
      "epoch   13 | times 17.340 |  loss: 4.205 | accuracy: 26.40\n",
      "epoch   14 | times 22.175 |  loss: 4.134 | accuracy: 26.72\n",
      "epoch   15 | times 18.202 |  loss: 4.075 | accuracy: 27.07\n",
      "epoch   16 | times 17.330 |  loss: 4.022 | accuracy: 27.46\n",
      "epoch   17 | times 17.323 |  loss: 3.970 | accuracy: 27.75\n",
      "epoch   18 | times 22.725 |  loss: 3.926 | accuracy: 28.06\n",
      "epoch   19 | times 24.143 |  loss: 3.889 | accuracy: 28.38\n",
      "epoch   20 | times 23.337 |  loss: 3.851 | accuracy: 28.60\n",
      "epoch   21 | times 17.336 |  loss: 3.820 | accuracy: 28.86\n",
      "============================================================\n",
      "Evaluation | loss: 21.000 | accuracy: 17.34\n",
      "============================================================\n",
      "epoch   22 | times 23.513 |  loss: 3.793 | accuracy: 29.03\n",
      "epoch   23 | times 24.149 |  loss: 3.764 | accuracy: 29.29\n",
      "epoch   24 | times 24.092 |  loss: 3.740 | accuracy: 29.52\n",
      "epoch   25 | times 24.097 |  loss: 3.721 | accuracy: 29.70\n",
      "epoch   26 | times 24.090 |  loss: 3.700 | accuracy: 29.89\n",
      "epoch   27 | times 23.562 |  loss: 3.680 | accuracy: 30.08\n",
      "epoch   28 | times 17.333 |  loss: 3.662 | accuracy: 30.22\n",
      "epoch   29 | times 17.307 |  loss: 3.646 | accuracy: 30.36\n",
      "epoch   30 | times 17.316 |  loss: 3.631 | accuracy: 30.48\n",
      "epoch   31 | times 17.301 |  loss: 3.617 | accuracy: 30.65\n",
      "============================================================\n",
      "Evaluation | loss: 31.000 | accuracy: 17.30\n",
      "============================================================\n",
      "save model at: ./model.pt\n"
     ]
    },
    {
     "name": "stderr",
     "output_type": "stream",
     "text": [
      "/home/pirl/.local/lib/python3.6/site-packages/torch/serialization.py:402: UserWarning: Couldn't retrieve source code for container of type RNNModel. It won't be checked for correctness upon loading.\n",
      "  \"type \" + obj.__name__ + \". It won't be checked \"\n"
     ]
    }
   ],
   "source": [
    "isTrain = False # Flag variable -> 학습 한번 하고 False로 바꾸기\n",
    "\n",
    "if isTrain: # set False if you don't need to train model\n",
    "    start_time = time.time()\n",
    "\n",
    "    for epoch in range(1, max_epoch+1):\n",
    "        loss, epoch_time, accuracy = train()\n",
    "        print('epoch {:4d} | times {:3.3f} |  loss: {:3.3f} | accuracy: {:3.2f}'.format(epoch+1, epoch_time, loss, accuracy))\n",
    "\n",
    "        if epoch % 10 == 0:\n",
    "            accuracy = evaluate()\n",
    "            print('=' * 60)\n",
    "            print('Evaluation | loss: {:3.3f} | accuracy: {:3.2f}'.format(epoch+1, epoch_time, loss, accuracy))\n",
    "            print('=' * 60)\n",
    "\n",
    "    with open('model.pt', 'wb') as f:\n",
    "        print('save model at: ./model.pt')\n",
    "        torch.save(model, f)"
   ]
  },
  {
   "cell_type": "code",
   "execution_count": 22,
   "metadata": {},
   "outputs": [],
   "source": [
    "# 실습 과제\n",
    "# train 함수를 참고하면 쉽게 짤 수 있음.\n",
    "def pred_sent_prob(sent):\n",
    "    import numpy as np\n",
    "    model.eval()\n",
    "    with torch.no_grad():\n",
    "        # 1. construct input for the model // input을 만든다 -> corpus.indexing 이용\n",
    "        idx_src, idx_tgt = corpus.indexing(sent)\n",
    "        # 2. set init hidden\n",
    "        hidden = model.init_hidden(len(sent))\n",
    "        # 3. get model output 적절히 모델에 전달 log softmax 값이 output으로 출력됨(즉, 전체 단어에 대한 log 확률 출력됨.)\n",
    "        output, hidden = model(idx_src, hidden) # output shape = (idx * length, vocab_size)\n",
    "        # 4. get word log_prob output 각각에 대해 입력 단어의 확률 찾는다\n",
    "        log_prob = []\n",
    "        for i in range(len(output)) :\n",
    "            log_prob.append(output[i][idx_src[0][i]])\n",
    "        # 5. comput sentence log_prob by summing each of word log_prob --> 각각 단어 확률을 모두 더한다.\n",
    "        sent_prob = np.sum(log_prob)\n",
    "        return sent_prob"
   ]
  },
  {
   "cell_type": "code",
   "execution_count": 23,
   "metadata": {},
   "outputs": [
    {
     "name": "stdout",
     "output_type": "stream",
     "text": [
      "load model from: ./model.pt\n",
      "log prob of [the dog bark .]: -94.374\n",
      "log prob of [the cat bark .]: -115.751\n",
      "log prob of [boy am a i .]: -100.460\n",
      "log prob of [i am a boy .]: -97.180\n"
     ]
    }
   ],
   "source": [
    "# load saved model\n",
    "with open('./model.pt', 'rb') as f: # 모델을 불러옴\n",
    "    print('load model from: ./model.pt')\n",
    "    model = torch.load(f).to(device)\n",
    "\n",
    "    print('log prob of [the dog bark .]: {:3.3f}'.format(pred_sent_prob([['the', 'dog', 'bark', '.']])))\n",
    "    print('log prob of [the cat bark .]: {:3.3f}'.format(pred_sent_prob([['the', 'cat', 'bark', '.']])))\n",
    "\n",
    "    print('log prob of [boy am a i .]: {:3.3f}'.format(pred_sent_prob([['boy', 'am', 'a', 'i', '.']])))\n",
    "    print('log prob of [i am a boy .]: {:3.3f}'.format(pred_sent_prob([['i', 'am', 'a', 'boy', '.']])))\n"
   ]
  },
  {
   "cell_type": "code",
   "execution_count": null,
   "metadata": {},
   "outputs": [],
   "source": []
  }
 ],
 "metadata": {
  "kernelspec": {
   "display_name": "edu",
   "language": "python",
   "name": "edu"
  },
  "language_info": {
   "codemirror_mode": {
    "name": "ipython",
    "version": 3
   },
   "file_extension": ".py",
   "mimetype": "text/x-python",
   "name": "python",
   "nbconvert_exporter": "python",
   "pygments_lexer": "ipython3",
   "version": "3.6.10"
  }
 },
 "nbformat": 4,
 "nbformat_minor": 2
}
