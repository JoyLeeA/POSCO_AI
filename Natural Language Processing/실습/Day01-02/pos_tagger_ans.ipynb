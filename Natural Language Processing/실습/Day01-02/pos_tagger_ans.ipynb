{
 "cells": [
  {
   "cell_type": "code",
   "execution_count": 3,
   "metadata": {},
   "outputs": [],
   "source": [
    "from collections import defaultdict\n",
    "import math\n",
    "\n",
    "def sent_processing(lines):\n",
    "\n",
    "    if isinstance(lines, list):\n",
    "        lines = [line.strip().split(\" \") for line in lines]\n",
    "\n",
    "        corpus = []\n",
    "        for line in lines:\n",
    "            sent = []\n",
    "            for word in line:\n",
    "                word = tuple(word.rsplit(\"/\", 1))\n",
    "                sent.append(word)\n",
    "            corpus.append(sent)\n",
    "\n",
    "        return corpus\n",
    "\n",
    "    elif isinstance(lines, str):\n",
    "        line = []\n",
    "        for word in lines.strip().split(\" \"):\n",
    "            word = tuple(word.rsplit(\"/\", 1))\n",
    "            line.append(word)\n",
    "        return line\n",
    "\n",
    "    else:\n",
    "        print(\"wrong type of input sentence\")\n",
    "        exit(1)\n",
    "\n",
    "    \n",
    "with open(\"corpus.txt\", \"r\", encoding='utf-8') as f:\n",
    "    lines = f.readlines()\n",
    "\n",
    "corpus = sent_processing(lines)"
   ]
  },
  {
   "cell_type": "code",
   "execution_count": 4,
   "metadata": {},
   "outputs": [],
   "source": [
    "def train(corpus):\n",
    "\n",
    "    def bigram_count(sent):\n",
    "        poslist = [pos for _, pos in sent] # [NN, VBD, DT, NN]\n",
    "        return [(pos0, pos1) for pos0, pos1 in zip(poslist, poslist[1:])]\n",
    "\n",
    "    pos2words = defaultdict(lambda: defaultdict(int)) # number of (word, tag)\n",
    "    trans = defaultdict(int) # bigram count --> (tag-1, tag)\n",
    "    bos = defaultdict(int) # count for bos bigram --> number of (BOS, tag)\n",
    "\n",
    "    # sent format: [(word, tag), (word, tag), ....)]\n",
    "    for sent in corpus: # counting\n",
    "        for word, pos in sent:\n",
    "            pos2words[pos][word] +=1\n",
    "\n",
    "        for bigram in bigram_count(sent):\n",
    "            trans[bigram] +=1\n",
    "\n",
    "        bos[sent[0][1]] +=1 # number of (BOS, tag) bigram\n",
    "        trans[(sent[-1][1], 'EOS')] +=1 # number of (tag, EOS) bigram\n",
    "\n",
    "    # obervation p(x|y) - emission prob.\n",
    "    base = {pos:sum(words.values()) for pos, words in pos2words.items()} # P(y) for every y (count for each tag)\n",
    "    \n",
    "    # case 1\n",
    "    # pos2words_prob = {pos:{word:math.log(count/base[pos]) for word, count in words.items()}\n",
    "    #               for pos, words in pos2words.items()} # log(p(x, y)/p(y)) for every (x, y)\n",
    "    \n",
    "    # case 2\n",
    "    # pos2words_prob = defaultdict(lambda: defaultdict(int))\n",
    "    # for pos, words in pos2words.items():\n",
    "    #     for word, count in words.items():\n",
    "    #         pos2words_prob[pos][word] = math.log(count/base[pos])\n",
    "    \n",
    "    pos2words_ = defaultdict(lambda: defaultdict(int))\n",
    "    for pos, words in pos2words.items():\n",
    "        for word, count in words.items():\n",
    "            pos2words_[pos][word] = math.log(count/base[pos])\n",
    "\n",
    "    # p(y_k|p_(k-1)) - transition prob.\n",
    "    base = defaultdict(int)\n",
    "    for (pos0, pos1), count in trans.items():\n",
    "        base[pos0] += count # p(y_(k-1))\n",
    "\n",
    "    trans_ = {pos: math.log(count/base[pos[0]]) for pos, count in trans.items()} # p(y_k, y_(k-1))/p(y_(k-1))\n",
    "\n",
    "   # BOS\n",
    "    base = sum(bos.values()) # p(BOS)\n",
    "    bos_ = {pos: math.log(count/base) for pos, count in bos.items()} # P(tag|BOS) \n",
    "\n",
    "    return pos2words_, trans_, bos_"
   ]
  },
  {
   "cell_type": "code",
   "execution_count": 5,
   "metadata": {},
   "outputs": [
    {
     "name": "stdout",
     "output_type": "stream",
     "text": [
      "명사 라면의 확률: -9.427948631791715\n",
      "연결어미 라면의 확률: -5.6937321388027\n"
     ]
    }
   ],
   "source": [
    "pos2words, trans, bos = train(corpus)\n",
    "\n",
    "print('명사 라면의 확률:', pos2words['CMC']['라면']) # 명사 '라면'의 확률 (신라면, 진라면 등.)\n",
    "print('연결어미 라면의 확률:', pos2words['fmoc']['라면']) # 연결어미 '라면'의 확률 (~ 이라면)"
   ]
  },
  {
   "cell_type": "code",
   "execution_count": 18,
   "metadata": {},
   "outputs": [],
   "source": [
    "class HMM_tagger(object):\n",
    "    def __init__(self, pos2words, trans, bos):\n",
    "        self.pos2words = pos2words\n",
    "        self.trans = trans\n",
    "        self.bos = bos\n",
    "        self.unk = -15\n",
    "        self.eos ='EOS'\n",
    "\n",
    "    def sent_log_prob(self, sent):\n",
    "        # emission prob.\n",
    "        log_prob = sum(\n",
    "            (self.pos2words.get(t, {}).get(w, self.unk))\n",
    "            for w, t in sent\n",
    "        ) # get emission prob. for each (w, t), otherwise unk value\n",
    "\n",
    "        # bos\n",
    "        log_prob += bos.get(sent[0][1], self.unk) # get BOS prob for the first (w, t)\n",
    "\n",
    "        # transition prob.\n",
    "        bigrams = [(t0, t1) for (_, t0), (_, t1) in zip(sent, sent[1:])] # every bigram in sentence\n",
    "        log_prob+= sum(\n",
    "            (self.trans.get(bigram, self.unk)\n",
    "             for bigram in bigrams)\n",
    "        )\n",
    "\n",
    "        # eos\n",
    "        log_prob += self.trans.get(\n",
    "            (sent[-1][1], self.eos), self.unk)\n",
    "\n",
    "        # length norm.\n",
    "        log_prob /= len(sent)\n",
    "\n",
    "        return log_prob\n"
   ]
  },
  {
   "cell_type": "code",
   "execution_count": 19,
   "metadata": {},
   "outputs": [
    {
     "name": "stdout",
     "output_type": "stream",
     "text": [
      "감기/CMC 는/fjb 줄이/YBD 다/fmof ./g: -5.489636\n",
      "감기/fmotg 는/fjb 줄/CMC 이다/fjj ./g: -14.037157\n"
     ]
    }
   ],
   "source": [
    "tagger = HMM_tagger(pos2words, trans, bos)\n",
    "test_sent1= \"감기/CMC 는/fjb 줄이/YBD 다/fmof ./g\"\n",
    "test_sent2= \"감기/fmotg 는/fjb 줄/CMC 이다/fjj ./g\"\n",
    "print(\"%s: %f\" % (test_sent1, tagger.sent_log_prob(sent_processing(test_sent1))))\n",
    "print(\"%s: %f\" % (test_sent2, tagger.sent_log_prob(sent_processing(test_sent2))))"
   ]
  }
 ],
 "metadata": {
  "kernelspec": {
   "display_name": "Python 3",
   "language": "python",
   "name": "python3"
  },
  "language_info": {
   "codemirror_mode": {
    "name": "ipython",
    "version": 3
   },
   "file_extension": ".py",
   "mimetype": "text/x-python",
   "name": "python",
   "nbconvert_exporter": "python",
   "pygments_lexer": "ipython3",
   "version": "3.6.9"
  }
 },
 "nbformat": 4,
 "nbformat_minor": 2
}
